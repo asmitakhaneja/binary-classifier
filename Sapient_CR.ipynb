{
 "cells": [
  {
   "cell_type": "code",
   "execution_count": 21,
   "metadata": {
    "colab": {
     "base_uri": "https://localhost:8080/"
    },
    "id": "0HDnlnK_zIns",
    "outputId": "1991fb1e-9f15-4484-e7ad-75b9b5566cfa"
   },
   "outputs": [
    {
     "name": "stdout",
     "output_type": "stream",
     "text": [
      "Requirement already satisfied: xgboost in /home/inder/anaconda3/lib/python3.6/site-packages (0.82)\n",
      "Requirement already satisfied: scipy in /home/inder/anaconda3/lib/python3.6/site-packages (from xgboost) (1.5.4)\n",
      "Requirement already satisfied: numpy in /home/inder/anaconda3/lib/python3.6/site-packages (from xgboost) (1.18.3)\n",
      "\u001b[31mERROR: Error checking for conflicts.\n",
      "Traceback (most recent call last):\n",
      "  File \"/home/inder/anaconda3/lib/python3.6/site-packages/pip/_vendor/pkg_resources/__init__.py\", line 3021, in _dep_map\n",
      "    return self.__dep_map\n",
      "  File \"/home/inder/anaconda3/lib/python3.6/site-packages/pip/_vendor/pkg_resources/__init__.py\", line 2815, in __getattr__\n",
      "    raise AttributeError(attr)\n",
      "AttributeError: _DistInfoDistribution__dep_map\n",
      "\n",
      "During handling of the above exception, another exception occurred:\n",
      "\n",
      "Traceback (most recent call last):\n",
      "  File \"/home/inder/anaconda3/lib/python3.6/site-packages/pip/_vendor/pkg_resources/__init__.py\", line 3012, in _parsed_pkg_info\n",
      "    return self._pkg_info\n",
      "  File \"/home/inder/anaconda3/lib/python3.6/site-packages/pip/_vendor/pkg_resources/__init__.py\", line 2815, in __getattr__\n",
      "    raise AttributeError(attr)\n",
      "AttributeError: _pkg_info\n",
      "\n",
      "During handling of the above exception, another exception occurred:\n",
      "\n",
      "Traceback (most recent call last):\n",
      "  File \"/home/inder/anaconda3/lib/python3.6/site-packages/pip/_internal/commands/install.py\", line 568, in _warn_about_conflicts\n",
      "    package_set, _dep_info = check_install_conflicts(to_install)\n",
      "  File \"/home/inder/anaconda3/lib/python3.6/site-packages/pip/_internal/operations/check.py\", line 114, in check_install_conflicts\n",
      "    package_set, _ = create_package_set_from_installed()\n",
      "  File \"/home/inder/anaconda3/lib/python3.6/site-packages/pip/_internal/operations/check.py\", line 53, in create_package_set_from_installed\n",
      "    package_set[name] = PackageDetails(dist.version, dist.requires())\n",
      "  File \"/home/inder/anaconda3/lib/python3.6/site-packages/pip/_vendor/pkg_resources/__init__.py\", line 2736, in requires\n",
      "    dm = self._dep_map\n",
      "  File \"/home/inder/anaconda3/lib/python3.6/site-packages/pip/_vendor/pkg_resources/__init__.py\", line 3023, in _dep_map\n",
      "    self.__dep_map = self._compute_dependencies()\n",
      "  File \"/home/inder/anaconda3/lib/python3.6/site-packages/pip/_vendor/pkg_resources/__init__.py\", line 3032, in _compute_dependencies\n",
      "    for req in self._parsed_pkg_info.get_all('Requires-Dist') or []:\n",
      "  File \"/home/inder/anaconda3/lib/python3.6/site-packages/pip/_vendor/pkg_resources/__init__.py\", line 3014, in _parsed_pkg_info\n",
      "    metadata = self.get_metadata(self.PKG_INFO)\n",
      "  File \"/home/inder/anaconda3/lib/python3.6/site-packages/pip/_vendor/pkg_resources/__init__.py\", line 1420, in get_metadata\n",
      "    value = self._get(path)\n",
      "  File \"/home/inder/anaconda3/lib/python3.6/site-packages/pip/_vendor/pkg_resources/__init__.py\", line 1616, in _get\n",
      "    with open(path, 'rb') as stream:\n",
      "FileNotFoundError: [Errno 2] No such file or directory: '/home/inder/anaconda3/lib/python3.6/site-packages/tensorflow_estimator-2.0.0.dist-info/METADATA'\u001b[0m\n"
     ]
    }
   ],
   "source": [
    "# Installing required libraries\n",
    "! pip install sklearn\n",
    "! pip install pandas\n",
    "! pip install sweetviz\n",
    "! pip install imbalanced-learn\n",
    "! pip install xgboost"
   ]
  },
  {
   "cell_type": "code",
   "execution_count": 26,
   "metadata": {
    "id": "spSmHU_OyX6z"
   },
   "outputs": [],
   "source": [
    "# Import the libraries\n",
    "import pandas as pd\n",
    "import sklearn as sk\n",
    "from sklearn.linear_model import LogisticRegression\n",
    "from sklearn import svm\n",
    "from sklearn.ensemble import RandomForestClassifier\n",
    "from sklearn.neural_network import MLPClassifier\n",
    "from sklearn.naive_bayes import GaussianNB\n",
    "from sklearn.neighbors import KNeighborsClassifier\n",
    "from sklearn.model_selection import train_test_split\n",
    "import numpy as np\n",
    "import sweetviz as sv\n",
    "from sklearn import metrics\n",
    "from scipy import stats\n",
    "import imblearn\n",
    "from sklearn import preprocessing\n",
    "from imblearn.under_sampling import CondensedNearestNeighbour\n",
    "import xgboost as xgb"
   ]
  },
  {
   "cell_type": "code",
   "execution_count": 8,
   "metadata": {
    "id": "bLw1bOrxycWW"
   },
   "outputs": [
    {
     "name": "stdout",
     "output_type": "stream",
     "text": [
      "[0. 1.]\n"
     ]
    }
   ],
   "source": [
    "# Fetch the data\n",
    "data_train = pd.read_csv('Train.csv', sep=',',header=0)\n",
    "data_eval = pd.read_csv('Eval.csv', sep=',',header=0)\n",
    "data_train.dropna(how='all',inplace=True)\n",
    "data_train = data_train[(np.abs(stats.zscore(data_train)) < 5).all(axis=1)]\n",
    "feat =  data_train.iloc[:,:-1]\n",
    "label = data_train['class_col']\n",
    "print(pd.unique(label)) # Binary Classification"
   ]
  },
  {
   "cell_type": "code",
   "execution_count": 9,
   "metadata": {},
   "outputs": [
    {
     "data": {
      "text/plain": [
       "array([[ 3.85893870e-01, -2.17003331e-01,  7.16110992e-01, ...,\n",
       "         0.00000000e+00,  2.38703664e-01,  4.77407328e-01],\n",
       "       [-1.66506942e-02,  8.52122884e-01,  0.00000000e+00, ...,\n",
       "        -2.84040961e-01,  0.00000000e+00,  0.00000000e+00],\n",
       "       [ 7.58127547e-01,  1.07798948e-01,  0.00000000e+00, ...,\n",
       "        -2.37157685e-01,  0.00000000e+00,  0.00000000e+00],\n",
       "       ...,\n",
       "       [ 3.92478379e-02,  8.42800248e-02,  0.00000000e+00, ...,\n",
       "         0.00000000e+00,  0.00000000e+00,  9.27080272e-01],\n",
       "       [ 2.00566653e-05, -1.14022133e-03,  0.00000000e+00, ...,\n",
       "         0.00000000e+00,  0.00000000e+00,  0.00000000e+00],\n",
       "       [ 8.48889598e-02,  2.20756232e-01,  0.00000000e+00, ...,\n",
       "         0.00000000e+00,  0.00000000e+00,  0.00000000e+00]])"
      ]
     },
     "execution_count": 9,
     "metadata": {},
     "output_type": "execute_result"
    }
   ],
   "source": [
    "#Normalization\n",
    "min_max_scaler = preprocessing.Normalizer()\n",
    "x_scaled = min_max_scaler.fit_transform(feat.values)\n",
    "\n",
    "x_scaled"
   ]
  },
  {
   "cell_type": "code",
   "execution_count": 10,
   "metadata": {},
   "outputs": [],
   "source": [
    "# Splitting dataset\n",
    "X_train, X_test, y_train, y_test = train_test_split(\n",
    "    x_scaled, label,test_size =0.30,shuffle=True)"
   ]
  },
  {
   "cell_type": "markdown",
   "metadata": {},
   "source": [
    "The next step was to do under-sampling to balance the training data to have better representation of both the classes, the technique I am using is condensed nearest neighbours, unfortunately due to the lack of computing power I was not able to complete the test for this run."
   ]
  },
  {
   "cell_type": "code",
   "execution_count": 11,
   "metadata": {},
   "outputs": [],
   "source": [
    "\n",
    "# # define the undersampling method\n",
    "# undersample = CondensedNearestNeighbour(n_neighbors=1)\n",
    "# # transform the dataset\n",
    "# X_train, y_train = undersample.fit_resample(X_train, y_train)\n",
    "\n",
    "from imblearn.over_sampling import RandomOverSampler\n",
    "from imblearn.under_sampling import RandomUnderSampler\n",
    "\n",
    "over = RandomOverSampler(sampling_strategy=0.5)\n",
    "under = RandomUnderSampler(sampling_strategy=0.8)\n",
    "# first performing oversampling to minority class\n",
    "X_over, y_over = over.fit_resample(X_train, y_train)\n",
    "# print(f\"Oversampled: {Counter(y_over)}\")\n",
    "# Oversampled: Counter({0: 9844, 1: 4922})\n",
    "# now to comine under sampling \n",
    "# X_combined_sampling, y_combined_sampling \n",
    "X_train, y_train = under.fit_resample(X_over, y_over)"
   ]
  },
  {
   "cell_type": "code",
   "execution_count": 16,
   "metadata": {},
   "outputs": [],
   "source": [
    "# zoo = pd.DataFrame(y_train)\n",
    "# print(pd.unique(zoo))"
   ]
  },
  {
   "cell_type": "code",
   "execution_count": 13,
   "metadata": {},
   "outputs": [
    {
     "data": {
      "application/vnd.jupyter.widget-view+json": {
       "model_id": "8772424d516c4ac6a1fb767d432b040d",
       "version_major": 2,
       "version_minor": 0
      },
      "text/plain": [
       "                                             |          | [  0%]   00:00 -> (? left)"
      ]
     },
     "metadata": {},
     "output_type": "display_data"
    },
    {
     "name": "stdout",
     "output_type": "stream",
     "text": [
      "Report eda_report_sampling.html was generated! NOTEBOOK/COLAB USERS: the web browser MAY not pop up, regardless, the report IS saved in your notebook/colab files.\n"
     ]
    }
   ],
   "source": [
    "feature = pd.DataFrame(X_train)\n",
    "\n",
    "# EDA of the training file\n",
    "eda_report = sv.analyze(feature)\n",
    "\n",
    "# Saving results to HTML file\n",
    "eda_report.show_html('eda_report_sampling.html')"
   ]
  },
  {
   "cell_type": "code",
   "execution_count": 17,
   "metadata": {},
   "outputs": [
    {
     "name": "stdout",
     "output_type": "stream",
     "text": [
      "KNN model accuracy(in %): 78.01301284428412\n",
      "KNN model f1-score(in %): 27.58161225849434\n"
     ]
    }
   ],
   "source": [
    "# KNN-classification\n",
    "KNN = KNeighborsClassifier(n_neighbors=10).fit(X_train, y_train)\n",
    "\n",
    "KNN_pred = KNN.predict(X_test)\n",
    "print(\"KNN model accuracy(in %):\",metrics.accuracy_score(y_test, KNN_pred)*100)\n",
    "print(\"KNN model f1-score(in %):\",metrics.f1_score(y_test, KNN_pred)*100)"
   ]
  },
  {
   "cell_type": "code",
   "execution_count": 18,
   "metadata": {},
   "outputs": [
    {
     "name": "stdout",
     "output_type": "stream",
     "text": [
      "Gaussian Naive Bayes model accuracy(in %): 87.54677544415603\n",
      "Gaussian Naive Bayes model f1-score(in %): 33.87039026136771\n"
     ]
    }
   ],
   "source": [
    "# NaiveBayes Classification\n",
    "gnb = GaussianNB().fit(X_train, y_train) \n",
    "gnb_pred = gnb.predict(X_test)\n",
    "print(\"Gaussian Naive Bayes model accuracy(in %):\", metrics.accuracy_score(y_test, gnb_pred)*100)\n",
    "print(\"Gaussian Naive Bayes model f1-score(in %):\",metrics.f1_score(y_test, gnb_pred)*100)"
   ]
  },
  {
   "cell_type": "code",
   "execution_count": 19,
   "metadata": {
    "id": "6_SvpV2FyfG3"
   },
   "outputs": [
    {
     "name": "stdout",
     "output_type": "stream",
     "text": [
      "LR model accuracy(in %): 82.86417422378047\n",
      "LR  model f1-score(in %): 30.41752224503765\n"
     ]
    }
   ],
   "source": [
    "# Logistic Regression\n",
    "\n",
    "LR = LogisticRegression(random_state=0, solver='lbfgs', multi_class='ovr').fit(X_train, y_train)\n",
    "LR_pred = LR.predict(X_test)\n",
    "print(\"LR model accuracy(in %):\",metrics.accuracy_score(y_test, LR_pred)*100)\n",
    "print(\"LR  model f1-score(in %):\",metrics.f1_score(y_test, LR_pred)*100)"
   ]
  },
  {
   "cell_type": "code",
   "execution_count": null,
   "metadata": {
    "id": "fC7ukPHFyhr5"
   },
   "outputs": [],
   "source": [
    "# Support Vector Machine\n",
    "# SVM = svm.LinearSVC().fit(X_train, y_train)\n",
    "SVM = svm.SVC(probability=True).fit(X_train, y_train)\n",
    "SVM_pred = SVM.predict(X_test)\n",
    "print(\"SVM model accuracy(in %):\",metrics.accuracy_score(y_test, SVM_pred)*100)\n",
    "print(\"SVM model f1-score(in %):\",metrics.f1_score(y_test, SVM_pred)*100)"
   ]
  },
  {
   "cell_type": "code",
   "execution_count": 20,
   "metadata": {
    "id": "bLHZBxM9yl2S"
   },
   "outputs": [
    {
     "name": "stdout",
     "output_type": "stream",
     "text": [
      "MLP model accuracy(in %): 82.83720459832115\n",
      "MLP model f1-score(in %): 30.51726491060462\n"
     ]
    },
    {
     "name": "stderr",
     "output_type": "stream",
     "text": [
      "/home/inder/anaconda3/lib/python3.6/site-packages/sklearn/neural_network/_multilayer_perceptron.py:500: ConvergenceWarning: lbfgs failed to converge (status=1):\n",
      "STOP: TOTAL NO. of ITERATIONS REACHED LIMIT.\n",
      "\n",
      "Increase the number of iterations (max_iter) or scale the data as shown in:\n",
      "    https://scikit-learn.org/stable/modules/preprocessing.html\n",
      "  self.n_iter_ = _check_optimize_result(\"lbfgs\", opt_res, self.max_iter)\n"
     ]
    }
   ],
   "source": [
    "#Multi-Layer Perceptron\n",
    "NN = MLPClassifier(solver='lbfgs', alpha=1e-5, hidden_layer_sizes=(5, 2), random_state=1).fit(X_train, y_train)\n",
    "NN_pred = NN.predict(X_test)\n",
    "print(\"MLP model accuracy(in %):\",metrics.accuracy_score(y_test, NN_pred)*100)\n",
    "print(\"MLP model f1-score(in %):\",metrics.f1_score(y_test, NN_pred)*100)"
   ]
  },
  {
   "cell_type": "code",
   "execution_count": 27,
   "metadata": {},
   "outputs": [
    {
     "name": "stdout",
     "output_type": "stream",
     "text": [
      "MLP model accuracy(in %): 82.85406061423322\n",
      "MLP model f1-score(in %): 34.55995882655687\n"
     ]
    }
   ],
   "source": [
    "# XGBoost\n",
    "XGB =  xgb.XGBClassifier(max_depth= 3, n_estimators=100).fit(X_train, y_train)\n",
    "xgb_pred = XGB.predict(X_test)\n",
    "print(\"MLP model accuracy(in %):\",metrics.accuracy_score(y_test, xgb_pred)*100)\n",
    "print(\"MLP model f1-score(in %):\",metrics.f1_score(y_test, xgb_pred)*100)"
   ]
  },
  {
   "cell_type": "code",
   "execution_count": 32,
   "metadata": {},
   "outputs": [
    {
     "data": {
      "text/html": [
       "<div>\n",
       "<style scoped>\n",
       "    .dataframe tbody tr th:only-of-type {\n",
       "        vertical-align: middle;\n",
       "    }\n",
       "\n",
       "    .dataframe tbody tr th {\n",
       "        vertical-align: top;\n",
       "    }\n",
       "\n",
       "    .dataframe thead th {\n",
       "        text-align: right;\n",
       "    }\n",
       "</style>\n",
       "<table border=\"1\" class=\"dataframe\">\n",
       "  <thead>\n",
       "    <tr style=\"text-align: right;\">\n",
       "      <th></th>\n",
       "      <th>variable_0</th>\n",
       "      <th>variable_1</th>\n",
       "      <th>variable_2</th>\n",
       "      <th>variable_3</th>\n",
       "      <th>variable_4</th>\n",
       "      <th>variable_5</th>\n",
       "      <th>variable_6</th>\n",
       "      <th>variable_7</th>\n",
       "      <th>variable_8</th>\n",
       "      <th>variable_9</th>\n",
       "    </tr>\n",
       "  </thead>\n",
       "  <tbody>\n",
       "    <tr>\n",
       "      <th>0</th>\n",
       "      <td>-0.235544</td>\n",
       "      <td>0.090909</td>\n",
       "      <td>0</td>\n",
       "      <td>-0.408420</td>\n",
       "      <td>0.759402</td>\n",
       "      <td>0.000000</td>\n",
       "      <td>0</td>\n",
       "      <td>-0.5</td>\n",
       "      <td>0</td>\n",
       "      <td>0</td>\n",
       "    </tr>\n",
       "    <tr>\n",
       "      <th>1</th>\n",
       "      <td>-0.273905</td>\n",
       "      <td>0.681818</td>\n",
       "      <td>1</td>\n",
       "      <td>-0.526768</td>\n",
       "      <td>0.132906</td>\n",
       "      <td>-0.666667</td>\n",
       "      <td>0</td>\n",
       "      <td>-0.5</td>\n",
       "      <td>0</td>\n",
       "      <td>0</td>\n",
       "    </tr>\n",
       "    <tr>\n",
       "      <th>2</th>\n",
       "      <td>0.258914</td>\n",
       "      <td>0.045455</td>\n",
       "      <td>0</td>\n",
       "      <td>0.035590</td>\n",
       "      <td>-0.097863</td>\n",
       "      <td>0.333333</td>\n",
       "      <td>0</td>\n",
       "      <td>0.0</td>\n",
       "      <td>0</td>\n",
       "      <td>2</td>\n",
       "    </tr>\n",
       "    <tr>\n",
       "      <th>3</th>\n",
       "      <td>-0.291358</td>\n",
       "      <td>0.227273</td>\n",
       "      <td>0</td>\n",
       "      <td>-0.520809</td>\n",
       "      <td>0.032906</td>\n",
       "      <td>-0.500000</td>\n",
       "      <td>0</td>\n",
       "      <td>0.0</td>\n",
       "      <td>0</td>\n",
       "      <td>0</td>\n",
       "    </tr>\n",
       "    <tr>\n",
       "      <th>4</th>\n",
       "      <td>1.060935</td>\n",
       "      <td>-0.681818</td>\n",
       "      <td>0</td>\n",
       "      <td>-0.210981</td>\n",
       "      <td>-0.232051</td>\n",
       "      <td>-0.833333</td>\n",
       "      <td>0</td>\n",
       "      <td>-0.5</td>\n",
       "      <td>0</td>\n",
       "      <td>4</td>\n",
       "    </tr>\n",
       "  </tbody>\n",
       "</table>\n",
       "</div>"
      ],
      "text/plain": [
       "   variable_0  variable_1  variable_2  variable_3  variable_4  variable_5  \\\n",
       "0   -0.235544    0.090909           0   -0.408420    0.759402    0.000000   \n",
       "1   -0.273905    0.681818           1   -0.526768    0.132906   -0.666667   \n",
       "2    0.258914    0.045455           0    0.035590   -0.097863    0.333333   \n",
       "3   -0.291358    0.227273           0   -0.520809    0.032906   -0.500000   \n",
       "4    1.060935   -0.681818           0   -0.210981   -0.232051   -0.833333   \n",
       "\n",
       "   variable_6  variable_7  variable_8  variable_9  \n",
       "0           0        -0.5           0           0  \n",
       "1           0        -0.5           0           0  \n",
       "2           0         0.0           0           2  \n",
       "3           0         0.0           0           0  \n",
       "4           0        -0.5           0           4  "
      ]
     },
     "execution_count": 32,
     "metadata": {},
     "output_type": "execute_result"
    }
   ],
   "source": [
    "data_eval.head()"
   ]
  },
  {
   "cell_type": "code",
   "execution_count": 34,
   "metadata": {},
   "outputs": [
    {
     "data": {
      "text/plain": [
       "array([[0.9372817 , 0.06271828],\n",
       "       [0.93185216, 0.06814784],\n",
       "       [0.7664131 , 0.23358689],\n",
       "       ...,\n",
       "       [0.83118546, 0.16881451],\n",
       "       [0.847976  , 0.15202397],\n",
       "       [0.7468232 , 0.2531768 ]], dtype=float32)"
      ]
     },
     "execution_count": 34,
     "metadata": {},
     "output_type": "execute_result"
    }
   ],
   "source": [
    "model_prob = XGB.predict_proba(data_eval.values)\n",
    "model_prob"
   ]
  },
  {
   "cell_type": "code",
   "execution_count": 35,
   "metadata": {},
   "outputs": [],
   "source": [
    "prob = list(model_prob[:,-1])\n",
    "class1_prob = [round(x,3) for x in prob]\n",
    "\n"
   ]
  },
  {
   "cell_type": "code",
   "execution_count": 36,
   "metadata": {},
   "outputs": [],
   "source": [
    "output = pd.DataFrame(columns=['row_id', 'yhat'])\n",
    "output['yhat'] = class1_prob\n",
    "output['row_id'] = [x for x in range(len(class1_prob))]"
   ]
  },
  {
   "cell_type": "code",
   "execution_count": 38,
   "metadata": {},
   "outputs": [],
   "source": [
    "output.to_csv('output.csv',index=False)"
   ]
  },
  {
   "cell_type": "code",
   "execution_count": null,
   "metadata": {},
   "outputs": [],
   "source": []
  }
 ],
 "metadata": {
  "colab": {
   "name": "Sapient_CR.ipynb",
   "provenance": []
  },
  "kernelspec": {
   "display_name": "Python 3",
   "language": "python",
   "name": "python3"
  },
  "language_info": {
   "codemirror_mode": {
    "name": "ipython",
    "version": 3
   },
   "file_extension": ".py",
   "mimetype": "text/x-python",
   "name": "python",
   "nbconvert_exporter": "python",
   "pygments_lexer": "ipython3",
   "version": "3.6.6"
  }
 },
 "nbformat": 4,
 "nbformat_minor": 1
}
